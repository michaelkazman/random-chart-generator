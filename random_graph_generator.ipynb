{
 "cells": [
  {
   "cell_type": "markdown",
   "metadata": {},
   "source": [
    "## Imports\n",
    "Contains import statements for all the required libraries and frameworks"
   ]
  },
  {
   "cell_type": "code",
   "execution_count": 33,
   "metadata": {},
   "outputs": [
    {
     "name": "stdout",
     "output_type": "stream",
     "text": [
      "The autoreload extension is already loaded. To reload it, use:\n",
      "  %reload_ext autoreload\n"
     ]
    }
   ],
   "source": [
    "%load_ext autoreload\n",
    "%autoreload 2\n",
    "\n",
    "import random\n",
    "import numpy as np\n",
    "from copy import deepcopy\n",
    "from pprint import pprint\n",
    "from importlib import import_module\n",
    "\n",
    "from generators.utils import generate_data\n",
    "from styles.utils import generate_styles\n",
    "from creators.utils import create_graph, get_file_path, export_graph"
   ]
  },
  {
   "cell_type": "code",
   "execution_count": 34,
   "metadata": {},
   "outputs": [],
   "source": [
    "# empty output folder\n",
    "import os\n",
    "dir = 'data'\n",
    "for file in os.listdir(dir):\n",
    "    if file != '__init__.py':\n",
    "        os.remove(os.path.join(dir, file))"
   ]
  },
  {
   "cell_type": "markdown",
   "metadata": {},
   "source": [
    "## Define Hyperparameters\n",
    "Specifies the maximum number of graphs to be generated\n",
    "\n",
    "Additionally, the types of libraries and plots can be specified as well"
   ]
  },
  {
   "cell_type": "code",
   "execution_count": 35,
   "metadata": {},
   "outputs": [
    {
     "name": "stdout",
     "output_type": "stream",
     "text": [
      "{'violin': {}}\n"
     ]
    }
   ],
   "source": [
    "# number of graphs to be generated\n",
    "max_num_graphs = 15\n",
    "\n",
    "# set of libraries generating graphs\n",
    "libraries = [\n",
    "    # 'bokeh',\n",
    "    'altair',\n",
    "    # 'plotnine',\n",
    "]\n",
    "\n",
    "# list of all potential graph types\n",
    "graph_types = [\n",
    "    # 'scatter',\n",
    "    # 'bar',\n",
    "    # 'line',\n",
    "    # 'contour',\n",
    "    # 'kd',\n",
    "    # 'histogram',\n",
    "    # 'errorbar',\n",
    "    # 'bubble',\n",
    "    # 'area',\n",
    "    # 'box',\n",
    "    'violin',\n",
    "]\n",
    "\n",
    "# generate dict for each possible graph type\n",
    "# (e.g. { 'scatter': {}, 'bar': {}, ... })\n",
    "graphs = dict(\n",
    "    zip(graph_types, [{} for _ in range(len(graph_types))])\n",
    ")\n",
    "pprint(graphs)"
   ]
  },
  {
   "cell_type": "markdown",
   "metadata": {},
   "source": [
    "## Data Separation\n",
    "Generates a dict representing the number of graphs that need to be created for each library/graph pair\n",
    "\n",
    "The dictionary keys represent `(library, graph)` where the value represents the number of graphs to be generated"
   ]
  },
  {
   "cell_type": "code",
   "execution_count": 36,
   "metadata": {},
   "outputs": [
    {
     "name": "stdout",
     "output_type": "stream",
     "text": [
      "{('violin', 'altair'): 15}\n"
     ]
    }
   ],
   "source": [
    "def split_number_evenly(n, n_arrays):\n",
    "    values = np.linspace(n, 0, n_arrays+1).astype(int)\n",
    "    return [value - values[i+1] for i, value in enumerate(values[:-1])]\n",
    "\n",
    "def split_number_randomly(n, n_arrays):\n",
    "    number, numbers = n, []\n",
    "    while (number > 0):\n",
    "        random_number = round(random.random()*number)\n",
    "        numbers.append(random_number)\n",
    "        number -= random_number\n",
    "    numbers.extend([0] * (n_arrays - len(numbers)))\n",
    "    return random.sample(numbers, len(numbers))\n",
    "\n",
    "def generate_occurences_dict(\n",
    "    num_graphs,\n",
    "    graph_types,\n",
    "    libraries,\n",
    "    equal_library_distribution=True,\n",
    "    equal_graph_distribution=True,\n",
    "):\n",
    "    # dict for storing the number of graphs per library / graph to generate\n",
    "    # (e.g. occurences['bokeh', 'bar'] might return a value of 5)\n",
    "    occurences, library_occurences, graph_occurences = {}, [], [] \n",
    "    \n",
    "    # split graph occurences (1-d array)\n",
    "    split_graph_func =  split_number_evenly if equal_graph_distribution else split_number_randomly\n",
    "    graph_occurences = split_graph_func(num_graphs, len(graph_types))\n",
    "\n",
    "    # split library occurences (2-d array)\n",
    "    split_library_func = split_number_evenly if (equal_library_distribution) else split_number_randomly\n",
    "    library_occurences = [split_library_func(num_graphs_per_type, len(libraries)) for num_graphs_per_type in graph_occurences]\n",
    "\n",
    "    # add values generated above to occurence dict\n",
    "    for i, num_graphs_per_type in enumerate(library_occurences):\n",
    "        for j, num_graphs_per_library in enumerate(num_graphs_per_type):\n",
    "            graph_type, library = graph_types[i], libraries[j]\n",
    "            occurences[graph_type, library] = num_graphs_per_library\n",
    "    return occurences\n",
    "\n",
    "# generate graph occurence dictionary\n",
    "graph_types = list(graphs.keys())\n",
    "occurences = generate_occurences_dict(max_num_graphs, graph_types, libraries)\n",
    "pprint(occurences)"
   ]
  },
  {
   "cell_type": "markdown",
   "metadata": {},
   "source": [
    "## Data Generation\n",
    "Generates the corresponding data based on graph type (i.e. `generate_bar()`)\n",
    "\n",
    "Data is stored in a generated_graphs object (i.e. an `X` attribute in said graph object)"
   ]
  },
  {
   "cell_type": "code",
   "execution_count": 37,
   "metadata": {},
   "outputs": [],
   "source": [
    "# append objects in the format { id, library, data, etc. } to each corresponding graph type\n",
    "# e.g. graphs['bar']['graphs'] might equal [{ id: 1, library: 'bokeh', data: [[1, 2, 3]]}, ...]\n",
    "generated_graphs = deepcopy(graphs)\n",
    "graph_type_id, current_graph_type = 0, None\n",
    "for (graph_type, library), num_occurences in occurences.items():\n",
    "    # use a counter to track how many entries belong to the current graph type\n",
    "    if (current_graph_type != graph_type):\n",
    "        graph_type_id = 0\n",
    "        current_graph_type = graph_type\n",
    "\n",
    "    # generate a n-length set of data points,\n",
    "    # where n is something like occurences['bar', 'bokeh']\n",
    "    graphs_list = generated_graphs[graph_type].setdefault('graphs', [])\n",
    "    for _ in range(num_occurences):\n",
    "        data = generate_data(graph_type)\n",
    "        graphs_list.append({\n",
    "            'id': graph_type_id,\n",
    "            'library': library,\n",
    "            'data': data,\n",
    "        })\n",
    "        graph_type_id += 1"
   ]
  },
  {
   "cell_type": "markdown",
   "metadata": {},
   "source": [
    "## Data Stylization\n",
    "Generates styles for a given library-graph pair (e.g. `generate_style(library, graph)`)\n",
    "\n",
    "Calls the `generate_bokeh_styles`, `generate_altair_styles`, and `generate_plotnine_styles` functions for each style module dynamically\n",
    "\n",
    "The stylization code for each graph can be found in the `styles` dir respectively (i.e. `styles/bar.py`)"
   ]
  },
  {
   "cell_type": "code",
   "execution_count": 38,
   "metadata": {},
   "outputs": [
    {
     "name": "stdout",
     "output_type": "stream",
     "text": [
      "[[{}, {}, {}, {}, {}, {}, {}, {}, {}, {}, {}, {}, {}, {}, {}]]\n"
     ]
    }
   ],
   "source": [
    "for (graph_type, graph_object) in generated_graphs.items():\n",
    "    for graph_content in graph_object['graphs']:\n",
    "        # retrieves the generate_LIBRARY_style function based on the graphs\n",
    "        # library and then appends the generated style to the same object\n",
    "        library = graph_content['library']\n",
    "        # print(graph_type, library)\n",
    "        graph_content['styles'] = generate_styles(graph_type, library)\n",
    "\n",
    "# displays generated styles objects\n",
    "pprint([[graph_content['styles'] for graph_content in graph_object['graphs']] for graph_object in generated_graphs.values()])"
   ]
  },
  {
   "cell_type": "markdown",
   "metadata": {},
   "source": [
    "## Graph Creation\n",
    "Uses the generated data points and styles to create the respective graphs\n",
    "\n",
    "Additional flags can be used to specify the output file path and file type"
   ]
  },
  {
   "cell_type": "code",
   "execution_count": 39,
   "metadata": {},
   "outputs": [
    {
     "name": "stdout",
     "output_type": "stream",
     "text": [
      "0     102.889525\n",
      "1       7.365760\n",
      "2     171.973037\n",
      "3     112.155286\n",
      "4     349.237849\n",
      "         ...    \n",
      "77    264.580185\n",
      "78     28.347795\n",
      "79   -195.433733\n",
      "80    262.639400\n",
      "81    108.353268\n",
      "Length: 82, dtype: float64\n",
      "[-615.4495866234399, 710.7104146191549]\n",
      "Exporting image data/violin_altair_0.png...\n"
     ]
    },
    {
     "ename": "JavascriptError",
     "evalue": "Error: Unrecognized signal name: \"concat_0_child_x_step\"",
     "output_type": "error",
     "traceback": [
      "\u001b[1;31m---------------------------------------------------------------------------\u001b[0m",
      "\u001b[1;31mJavascriptError\u001b[0m                           Traceback (most recent call last)",
      "\u001b[1;32m~\\AppData\\Local\\Temp/ipykernel_18996/1401305568.py\u001b[0m in \u001b[0;36m<module>\u001b[1;34m\u001b[0m\n\u001b[0;32m     10\u001b[0m         \u001b[0mid\u001b[0m \u001b[1;33m=\u001b[0m \u001b[0mgraph_content\u001b[0m\u001b[1;33m[\u001b[0m\u001b[1;34m'id'\u001b[0m\u001b[1;33m]\u001b[0m\u001b[1;33m\u001b[0m\u001b[1;33m\u001b[0m\u001b[0m\n\u001b[0;32m     11\u001b[0m         \u001b[0mfile_path\u001b[0m \u001b[1;33m=\u001b[0m \u001b[0mget_file_path\u001b[0m\u001b[1;33m(\u001b[0m\u001b[0mgraph_type\u001b[0m\u001b[1;33m,\u001b[0m \u001b[0mlibrary\u001b[0m\u001b[1;33m,\u001b[0m \u001b[0mid\u001b[0m\u001b[1;33m)\u001b[0m\u001b[1;33m\u001b[0m\u001b[1;33m\u001b[0m\u001b[0m\n\u001b[1;32m---> 12\u001b[1;33m         \u001b[0mexport_graph\u001b[0m\u001b[1;33m(\u001b[0m\u001b[0mgraph\u001b[0m\u001b[1;33m,\u001b[0m \u001b[0mlibrary\u001b[0m\u001b[1;33m,\u001b[0m \u001b[0mfile_path\u001b[0m\u001b[1;33m)\u001b[0m\u001b[1;33m\u001b[0m\u001b[1;33m\u001b[0m\u001b[0m\n\u001b[0m\u001b[0;32m     13\u001b[0m \u001b[0mget_ipython\u001b[0m\u001b[1;33m(\u001b[0m\u001b[1;33m)\u001b[0m\u001b[1;33m.\u001b[0m\u001b[0mrun_line_magic\u001b[0m\u001b[1;33m(\u001b[0m\u001b[1;34m'matplotlib'\u001b[0m\u001b[1;33m,\u001b[0m \u001b[1;34m'inline'\u001b[0m\u001b[1;33m)\u001b[0m\u001b[1;33m\u001b[0m\u001b[1;33m\u001b[0m\u001b[0m\n",
      "\u001b[1;32mc:\\Users\\micha\\Desktop\\random-chart-generator\\creators\\utils.py\u001b[0m in \u001b[0;36mexport_graph\u001b[1;34m(graph, library, filename, verbose)\u001b[0m\n\u001b[0;32m     36\u001b[0m     \u001b[0mexport_function\u001b[0m \u001b[1;33m=\u001b[0m \u001b[0mgetattr\u001b[0m\u001b[1;33m(\u001b[0m\u001b[0mexport_module\u001b[0m\u001b[1;33m,\u001b[0m \u001b[0mexport_function_name\u001b[0m\u001b[1;33m)\u001b[0m\u001b[1;33m\u001b[0m\u001b[1;33m\u001b[0m\u001b[0m\n\u001b[0;32m     37\u001b[0m     \u001b[0mprint\u001b[0m\u001b[1;33m(\u001b[0m\u001b[1;34m'Exporting image {filename}...'\u001b[0m\u001b[1;33m.\u001b[0m\u001b[0mformat\u001b[0m\u001b[1;33m(\u001b[0m\u001b[0mfilename\u001b[0m\u001b[1;33m=\u001b[0m\u001b[0mfilename\u001b[0m\u001b[1;33m)\u001b[0m\u001b[1;33m)\u001b[0m\u001b[1;33m\u001b[0m\u001b[1;33m\u001b[0m\u001b[0m\n\u001b[1;32m---> 38\u001b[1;33m     \u001b[0mexport_function\u001b[0m\u001b[1;33m(\u001b[0m\u001b[0mgraph\u001b[0m\u001b[1;33m,\u001b[0m \u001b[0mfilename\u001b[0m\u001b[1;33m)\u001b[0m\u001b[1;33m\u001b[0m\u001b[1;33m\u001b[0m\u001b[0m\n\u001b[0m\u001b[0;32m     39\u001b[0m \u001b[1;33m\u001b[0m\u001b[0m\n\u001b[0;32m     40\u001b[0m \u001b[1;32mdef\u001b[0m \u001b[0mexport_bokeh_graph\u001b[0m\u001b[1;33m(\u001b[0m\u001b[0mgraph\u001b[0m\u001b[1;33m,\u001b[0m \u001b[0mfilename\u001b[0m\u001b[1;33m)\u001b[0m\u001b[1;33m:\u001b[0m\u001b[1;33m\u001b[0m\u001b[1;33m\u001b[0m\u001b[0m\n",
      "\u001b[1;32mc:\\Users\\micha\\Desktop\\random-chart-generator\\creators\\utils.py\u001b[0m in \u001b[0;36mexport_altair_graph\u001b[1;34m(graph, filename)\u001b[0m\n\u001b[0;32m     42\u001b[0m \u001b[1;33m\u001b[0m\u001b[0m\n\u001b[0;32m     43\u001b[0m \u001b[1;32mdef\u001b[0m \u001b[0mexport_altair_graph\u001b[0m\u001b[1;33m(\u001b[0m\u001b[0mgraph\u001b[0m\u001b[1;33m,\u001b[0m \u001b[0mfilename\u001b[0m\u001b[1;33m)\u001b[0m\u001b[1;33m:\u001b[0m\u001b[1;33m\u001b[0m\u001b[1;33m\u001b[0m\u001b[0m\n\u001b[1;32m---> 44\u001b[1;33m     \u001b[0msave\u001b[0m\u001b[1;33m(\u001b[0m\u001b[0mgraph\u001b[0m\u001b[1;33m,\u001b[0m \u001b[0mfilename\u001b[0m\u001b[1;33m)\u001b[0m\u001b[1;33m\u001b[0m\u001b[1;33m\u001b[0m\u001b[0m\n\u001b[0m\u001b[0;32m     45\u001b[0m \u001b[1;33m\u001b[0m\u001b[0m\n\u001b[0;32m     46\u001b[0m \u001b[1;32mdef\u001b[0m \u001b[0mexport_plotnine_graph\u001b[0m\u001b[1;33m(\u001b[0m\u001b[0mgraph\u001b[0m\u001b[1;33m,\u001b[0m \u001b[0mfilename\u001b[0m\u001b[1;33m)\u001b[0m\u001b[1;33m:\u001b[0m\u001b[1;33m\u001b[0m\u001b[1;33m\u001b[0m\u001b[0m\n",
      "\u001b[1;32mD:\\Development\\Miniconda3\\envs\\random-graph-generator\\lib\\site-packages\\altair_saver\\_core.py\u001b[0m in \u001b[0;36msave\u001b[1;34m(chart, fp, fmt, mode, embed_options, method, suppress_data_warning, **kwargs)\u001b[0m\n\u001b[0;32m    170\u001b[0m     \u001b[0msaver\u001b[0m \u001b[1;33m=\u001b[0m \u001b[0mSaver\u001b[0m\u001b[1;33m(\u001b[0m\u001b[0mspec\u001b[0m\u001b[1;33m,\u001b[0m \u001b[0mmode\u001b[0m\u001b[1;33m=\u001b[0m\u001b[0mmode\u001b[0m\u001b[1;33m,\u001b[0m \u001b[0membed_options\u001b[0m\u001b[1;33m=\u001b[0m\u001b[0membed_options\u001b[0m\u001b[1;33m,\u001b[0m \u001b[1;33m**\u001b[0m\u001b[0mkwargs\u001b[0m\u001b[1;33m)\u001b[0m\u001b[1;33m\u001b[0m\u001b[1;33m\u001b[0m\u001b[0m\n\u001b[0;32m    171\u001b[0m \u001b[1;33m\u001b[0m\u001b[0m\n\u001b[1;32m--> 172\u001b[1;33m     \u001b[1;32mreturn\u001b[0m \u001b[0msaver\u001b[0m\u001b[1;33m.\u001b[0m\u001b[0msave\u001b[0m\u001b[1;33m(\u001b[0m\u001b[0mfp\u001b[0m\u001b[1;33m=\u001b[0m\u001b[0mfp\u001b[0m\u001b[1;33m,\u001b[0m \u001b[0mfmt\u001b[0m\u001b[1;33m=\u001b[0m\u001b[0mfmt\u001b[0m\u001b[1;33m)\u001b[0m\u001b[1;33m\u001b[0m\u001b[1;33m\u001b[0m\u001b[0m\n\u001b[0m\u001b[0;32m    173\u001b[0m \u001b[1;33m\u001b[0m\u001b[0m\n\u001b[0;32m    174\u001b[0m \u001b[1;33m\u001b[0m\u001b[0m\n",
      "\u001b[1;32mD:\\Development\\Miniconda3\\envs\\random-graph-generator\\lib\\site-packages\\altair_saver\\savers\\_saver.py\u001b[0m in \u001b[0;36msave\u001b[1;34m(self, fp, fmt)\u001b[0m\n\u001b[0;32m    119\u001b[0m             \u001b[1;32mraise\u001b[0m \u001b[0mValueError\u001b[0m\u001b[1;33m(\u001b[0m\u001b[1;34mf\"Got fmt={fmt}; expected one of {self.valid_formats}\"\u001b[0m\u001b[1;33m)\u001b[0m\u001b[1;33m\u001b[0m\u001b[1;33m\u001b[0m\u001b[0m\n\u001b[0;32m    120\u001b[0m \u001b[1;33m\u001b[0m\u001b[0m\n\u001b[1;32m--> 121\u001b[1;33m         \u001b[0mcontent\u001b[0m \u001b[1;33m=\u001b[0m \u001b[0mself\u001b[0m\u001b[1;33m.\u001b[0m\u001b[0m_serialize\u001b[0m\u001b[1;33m(\u001b[0m\u001b[0mfmt\u001b[0m\u001b[1;33m,\u001b[0m \u001b[1;34m\"save\"\u001b[0m\u001b[1;33m)\u001b[0m\u001b[1;33m\u001b[0m\u001b[1;33m\u001b[0m\u001b[0m\n\u001b[0m\u001b[0;32m    122\u001b[0m         \u001b[1;32mif\u001b[0m \u001b[0mfp\u001b[0m \u001b[1;32mis\u001b[0m \u001b[1;32mNone\u001b[0m\u001b[1;33m:\u001b[0m\u001b[1;33m\u001b[0m\u001b[1;33m\u001b[0m\u001b[0m\n\u001b[0;32m    123\u001b[0m             \u001b[1;32mif\u001b[0m \u001b[0misinstance\u001b[0m\u001b[1;33m(\u001b[0m\u001b[0mcontent\u001b[0m\u001b[1;33m,\u001b[0m \u001b[0mdict\u001b[0m\u001b[1;33m)\u001b[0m\u001b[1;33m:\u001b[0m\u001b[1;33m\u001b[0m\u001b[1;33m\u001b[0m\u001b[0m\n",
      "\u001b[1;32mD:\\Development\\Miniconda3\\envs\\random-graph-generator\\lib\\site-packages\\altair_saver\\savers\\_selenium.py\u001b[0m in \u001b[0;36m_serialize\u001b[1;34m(self, fmt, content_type)\u001b[0m\n\u001b[0;32m    282\u001b[0m \u001b[1;33m\u001b[0m\u001b[0m\n\u001b[0;32m    283\u001b[0m     \u001b[1;32mdef\u001b[0m \u001b[0m_serialize\u001b[0m\u001b[1;33m(\u001b[0m\u001b[0mself\u001b[0m\u001b[1;33m,\u001b[0m \u001b[0mfmt\u001b[0m\u001b[1;33m:\u001b[0m \u001b[0mstr\u001b[0m\u001b[1;33m,\u001b[0m \u001b[0mcontent_type\u001b[0m\u001b[1;33m:\u001b[0m \u001b[0mstr\u001b[0m\u001b[1;33m)\u001b[0m \u001b[1;33m->\u001b[0m \u001b[0mMimebundleContent\u001b[0m\u001b[1;33m:\u001b[0m\u001b[1;33m\u001b[0m\u001b[1;33m\u001b[0m\u001b[0m\n\u001b[1;32m--> 284\u001b[1;33m         \u001b[0mout\u001b[0m \u001b[1;33m=\u001b[0m \u001b[0mself\u001b[0m\u001b[1;33m.\u001b[0m\u001b[0m_extract\u001b[0m\u001b[1;33m(\u001b[0m\u001b[0mfmt\u001b[0m\u001b[1;33m)\u001b[0m\u001b[1;33m\u001b[0m\u001b[1;33m\u001b[0m\u001b[0m\n\u001b[0m\u001b[0;32m    285\u001b[0m         \u001b[1;32mif\u001b[0m \u001b[0mfmt\u001b[0m \u001b[1;33m==\u001b[0m \u001b[1;34m\"png\"\u001b[0m\u001b[1;33m:\u001b[0m\u001b[1;33m\u001b[0m\u001b[1;33m\u001b[0m\u001b[0m\n\u001b[0;32m    286\u001b[0m             \u001b[1;32massert\u001b[0m \u001b[0misinstance\u001b[0m\u001b[1;33m(\u001b[0m\u001b[0mout\u001b[0m\u001b[1;33m,\u001b[0m \u001b[0mstr\u001b[0m\u001b[1;33m)\u001b[0m\u001b[1;33m\u001b[0m\u001b[1;33m\u001b[0m\u001b[0m\n",
      "\u001b[1;32mD:\\Development\\Miniconda3\\envs\\random-graph-generator\\lib\\site-packages\\altair_saver\\savers\\_selenium.py\u001b[0m in \u001b[0;36m_extract\u001b[1;34m(self, fmt)\u001b[0m\n\u001b[0;32m    278\u001b[0m         \u001b[0mresult\u001b[0m \u001b[1;33m=\u001b[0m \u001b[0mdriver\u001b[0m\u001b[1;33m.\u001b[0m\u001b[0mexecute_async_script\u001b[0m\u001b[1;33m(\u001b[0m\u001b[0mEXTRACT_CODE\u001b[0m\u001b[1;33m,\u001b[0m \u001b[0mself\u001b[0m\u001b[1;33m.\u001b[0m\u001b[0m_spec\u001b[0m\u001b[1;33m,\u001b[0m \u001b[0mopt\u001b[0m\u001b[1;33m,\u001b[0m \u001b[0mfmt\u001b[0m\u001b[1;33m)\u001b[0m\u001b[1;33m\u001b[0m\u001b[1;33m\u001b[0m\u001b[0m\n\u001b[0;32m    279\u001b[0m         \u001b[1;32mif\u001b[0m \u001b[1;34m\"error\"\u001b[0m \u001b[1;32min\u001b[0m \u001b[0mresult\u001b[0m\u001b[1;33m:\u001b[0m\u001b[1;33m\u001b[0m\u001b[1;33m\u001b[0m\u001b[0m\n\u001b[1;32m--> 280\u001b[1;33m             \u001b[1;32mraise\u001b[0m \u001b[0mJavascriptError\u001b[0m\u001b[1;33m(\u001b[0m\u001b[0mresult\u001b[0m\u001b[1;33m[\u001b[0m\u001b[1;34m\"error\"\u001b[0m\u001b[1;33m]\u001b[0m\u001b[1;33m)\u001b[0m\u001b[1;33m\u001b[0m\u001b[1;33m\u001b[0m\u001b[0m\n\u001b[0m\u001b[0;32m    281\u001b[0m         \u001b[1;32mreturn\u001b[0m \u001b[0mresult\u001b[0m\u001b[1;33m[\u001b[0m\u001b[1;34m\"result\"\u001b[0m\u001b[1;33m]\u001b[0m\u001b[1;33m\u001b[0m\u001b[1;33m\u001b[0m\u001b[0m\n\u001b[0;32m    282\u001b[0m \u001b[1;33m\u001b[0m\u001b[0m\n",
      "\u001b[1;31mJavascriptError\u001b[0m: Error: Unrecognized signal name: \"concat_0_child_x_step\""
     ]
    }
   ],
   "source": [
    "%matplotlib agg\n",
    "for (graph_type, graph_object) in generated_graphs.items():\n",
    "    for graph_content in graph_object['graphs']:\n",
    "        # retrieves the create_LIBRARY_graph function based on the graphs\n",
    "        # library and then appends the created graph to the same object\n",
    "        library = graph_content['library']\n",
    "        graph = create_graph(graph_type, library, graph_content)\n",
    "        \n",
    "        # export content to filepath\n",
    "        id = graph_content['id']\n",
    "        file_path = get_file_path(graph_type, library, id)\n",
    "        export_graph(graph, library, file_path)\n",
    "%matplotlib inline"
   ]
  },
  {
   "cell_type": "markdown",
   "metadata": {},
   "source": [
    "<hr/>\n",
    "\n",
    "## TODO: \n",
    "**Wednesday the 24th**\n",
    "- Add in graph creation code (area, bar, box, errorbar, etc.)\n",
    "- Add in theming code (selects random theme from directory, can be found in legacy codebase)\n",
    "\n",
    "**Friday the 26th**\n",
    "- Add in stylization code ()\n",
    "- Add README documentation\n",
    "\n",
    "## POSSIBLE TODOS:\n",
    "- Possibly batching (if not enough resources to run pipeline for large number of graphs)\n",
    "\n",
    "<br />\n",
    "<hr/>\n",
    "\n",
    "## Define Hyperparameters\n",
    "1. Define hyperparameters such as number of total graphs, what types of libraries and graphs to be used, etc.\n",
    "## Data Separation\n",
    "1. Split the dataset up by library / graph type\n",
    "1. Allow for distribution flags (so not entirely random)\n",
    "    - `library_distribution` and `graph_distribution` flags\n",
    "\n",
    "## Data Generation\n",
    "1. Generate the corresponding data (i.e. `generate_bar()`)\n",
    "1. Attach data to graph object (i.e. add `X` attribute to graph object)\n",
    "\n",
    "# Style Generation\n",
    "1. Chart Stylization (i.e. each library will be in charge of their own stylization)\n",
    "\n",
    "# Chart Generation\n",
    "1. Chart Generation"
   ]
  },
  {
   "cell_type": "code",
   "execution_count": null,
   "metadata": {},
   "outputs": [],
   "source": [
    "import pandas as pd \n",
    "pd.Series([1, 2, 3])"
   ]
  }
 ],
 "metadata": {
  "interpreter": {
   "hash": "d4ffe1cccd6b8935c088250f646007b8f4ca77d2f7799c1e6d17e1b6461115b4"
  },
  "kernelspec": {
   "display_name": "Random Graph Generator Kernel (Python 3.9.7)",
   "language": "python",
   "name": "python3"
  },
  "language_info": {
   "codemirror_mode": {
    "name": "ipython",
    "version": 3
   },
   "file_extension": ".py",
   "mimetype": "text/x-python",
   "name": "python",
   "nbconvert_exporter": "python",
   "pygments_lexer": "ipython3",
   "version": "3.9.1"
  },
  "orig_nbformat": 4
 },
 "nbformat": 4,
 "nbformat_minor": 2
}
