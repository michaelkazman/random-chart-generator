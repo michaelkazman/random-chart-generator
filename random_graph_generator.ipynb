{
 "cells": [
  {
   "cell_type": "markdown",
   "metadata": {},
   "source": [
    "## Imports\n",
    "Contains import statements for all the required libraries and frameworks"
   ]
  },
  {
   "cell_type": "code",
   "execution_count": 110,
   "metadata": {},
   "outputs": [
    {
     "name": "stdout",
     "output_type": "stream",
     "text": [
      "The autoreload extension is already loaded. To reload it, use:\n",
      "  %reload_ext autoreload\n"
     ]
    }
   ],
   "source": [
    "%load_ext autoreload\n",
    "%autoreload 2\n",
    "\n",
    "import random\n",
    "import numpy as np\n",
    "from copy import deepcopy\n",
    "from pprint import pprint\n",
    "from importlib import import_module\n",
    "\n",
    "from generators.utils import generate_data\n",
    "from styles.utils import generate_styles\n",
    "from creators.utils import create_graph, get_file_path, export_graph"
   ]
  },
  {
   "cell_type": "markdown",
   "metadata": {},
   "source": [
    "## Define Hyperparameters\n",
    "Specifies the maximum number of graphs to be generated\n",
    "\n",
    "Additionally, the types of libraries and plots can be specified as well"
   ]
  },
  {
   "cell_type": "code",
   "execution_count": 111,
   "metadata": {},
   "outputs": [
    {
     "name": "stdout",
     "output_type": "stream",
     "text": [
      "{'area': {}}\n"
     ]
    }
   ],
   "source": [
    "# number of graphs to be generated\n",
    "max_num_graphs = 5\n",
    "\n",
    "# set of libraries generating graphs\n",
    "libraries = [\n",
    "    'bokeh',\n",
    "    'altair',\n",
    "    'plotnine',\n",
    "]\n",
    "\n",
    "# list of all potential graph types\n",
    "graph_types = [\n",
    "    'scatter',\n",
    "    'bar',\n",
    "    'line',\n",
    "    'contour',\n",
    "    'kd',\n",
    "    'histogram',\n",
    "    'errorbar',\n",
    "    'bubble',\n",
    "    'area',\n",
    "    'box',\n",
    "]\n",
    "\n",
    "# generate dict for each possible graph type\n",
    "# (e.g. { 'scatter': {}, 'bar': {}, ... })\n",
    "graphs = dict(\n",
    "    zip(graph_types, [{} for _ in range(len(graph_types))])\n",
    ")\n",
    "pprint(graphs)"
   ]
  },
  {
   "cell_type": "markdown",
   "metadata": {},
   "source": [
    "## Data Separation\n",
    "Generates a dict representing the number of graphs that need to be created for each library/graph pair\n",
    "\n",
    "The dictionary keys represent `(library, graph)` where the value represents the number of graphs to be generated"
   ]
  },
  {
   "cell_type": "code",
   "execution_count": 112,
   "metadata": {},
   "outputs": [
    {
     "name": "stdout",
     "output_type": "stream",
     "text": [
      "{('area', 'altair'): 2, ('area', 'bokeh'): 3}\n"
     ]
    }
   ],
   "source": [
    "def split_number_evenly(n, n_arrays):\n",
    "    values = np.linspace(n, 0, n_arrays+1).astype(int)\n",
    "    return [value - values[i+1] for i, value in enumerate(values[:-1])]\n",
    "\n",
    "def split_number_randomly(n, n_arrays):\n",
    "    number, numbers = n, []\n",
    "    while (number > 0):\n",
    "        random_number = round(random.random()*number)\n",
    "        numbers.append(random_number)\n",
    "        number -= random_number\n",
    "    numbers.extend([0] * (n_arrays - len(numbers)))\n",
    "    return random.sample(numbers, len(numbers))\n",
    "\n",
    "def generate_occurences_dict(\n",
    "    num_graphs,\n",
    "    graph_types,\n",
    "    libraries,\n",
    "    equal_library_distribution=True,\n",
    "    equal_graph_distribution=True,\n",
    "):\n",
    "    # dict for storing the number of graphs per library / graph to generate\n",
    "    # (e.g. occurences['bokeh', 'bar'] might return a value of 5)\n",
    "    occurences, library_occurences, graph_occurences = {}, [], [] \n",
    "    \n",
    "    # split graph occurences (1-d array)\n",
    "    split_graph_func =  split_number_evenly if equal_graph_distribution else split_number_randomly\n",
    "    graph_occurences = split_graph_func(num_graphs, len(graph_types))\n",
    "\n",
    "    # split library occurences (2-d array)\n",
    "    split_library_func = split_number_evenly if (equal_library_distribution) else split_number_randomly\n",
    "    library_occurences = [split_library_func(num_graphs_per_type, len(libraries)) for num_graphs_per_type in graph_occurences]\n",
    "\n",
    "    # add values generated above to occurence dict\n",
    "    for i, num_graphs_per_type in enumerate(library_occurences):\n",
    "        for j, num_graphs_per_library in enumerate(num_graphs_per_type):\n",
    "            graph_type, library = graph_types[i], libraries[j]\n",
    "            occurences[graph_type, library] = num_graphs_per_library\n",
    "    return occurences\n",
    "\n",
    "# generate graph occurence dictionary\n",
    "graph_types = list(graphs.keys())\n",
    "occurences = generate_occurences_dict(max_num_graphs, graph_types, libraries)\n",
    "pprint(occurences)"
   ]
  },
  {
   "cell_type": "markdown",
   "metadata": {},
   "source": [
    "## Data Generation\n",
    "Generates the corresponding data based on graph type (i.e. `generate_bar()`)\n",
    "\n",
    "Data is stored in a generated_graphs object (i.e. an `X` attribute in said graph object)"
   ]
  },
  {
   "cell_type": "code",
   "execution_count": 113,
   "metadata": {},
   "outputs": [],
   "source": [
    "# append objects in the format { id, library, data, etc. } to each corresponding graph type\n",
    "# e.g. graphs['bar']['graphs'] might equal [{ id: 1, library: 'bokeh', data: [[1, 2, 3]]}, ...]\n",
    "generated_graphs = deepcopy(graphs)\n",
    "graph_type_id, current_graph_type = 0, None\n",
    "for (graph_type, library), num_occurences in occurences.items():\n",
    "    # use a counter to track how many entries belong to the current graph type\n",
    "    if (current_graph_type != graph_type):\n",
    "        graph_type_id = 0\n",
    "        current_graph_type = graph_type\n",
    "\n",
    "    # generate a n-length set of data points,\n",
    "    # where n is something like occurences['bar', 'bokeh']\n",
    "    graphs_list = generated_graphs[graph_type].setdefault('graphs', [])\n",
    "    for _ in range(num_occurences):\n",
    "        data = generate_data(graph_type)\n",
    "        graphs_list.append({\n",
    "            'id': graph_type_id,\n",
    "            'library': library,\n",
    "            'data': data,\n",
    "        })\n",
    "        graph_type_id += 1"
   ]
  },
  {
   "cell_type": "markdown",
   "metadata": {},
   "source": [
    "## Data Stylization\n",
    "Generates styles for a given library-graph pair (e.g. `generate_style(library, graph)`)\n",
    "\n",
    "Calls the `generate_bokeh_styles`, `generate_altair_styles`, and `generate_plotnine_styles` functions for each style module dynamically\n",
    "\n",
    "The stylization code for each graph can be found in the `styles` dir respectively (i.e. `styles/bar.py`)"
   ]
  },
  {
   "cell_type": "code",
   "execution_count": 114,
   "metadata": {},
   "outputs": [
    {
     "name": "stdout",
     "output_type": "stream",
     "text": [
      "[[{}, {}, {}, {}, {}]]\n"
     ]
    }
   ],
   "source": [
    "for (graph_type, graph_object) in generated_graphs.items():\n",
    "    for graph_content in graph_object['graphs']:\n",
    "        # retrieves the generate_LIBRARY_style function based on the graphs\n",
    "        # library and then appends the generated style to the same object\n",
    "        library = graph_content['library']\n",
    "        # print(graph_type, library)\n",
    "        graph_content['styles'] = generate_styles(graph_type, library)\n",
    "\n",
    "# displays generated styles objects\n",
    "pprint([[graph_content['styles'] for graph_content in graph_object['graphs']] for graph_object in generated_graphs.values()])"
   ]
  },
  {
   "cell_type": "markdown",
   "metadata": {},
   "source": [
    "## Graph Creation\n",
    "Uses the generated data points and styles to create the respective graphs\n",
    "\n",
    "Additional flags can be used to specify the output file path and file type"
   ]
  },
  {
   "cell_type": "code",
   "execution_count": 115,
   "metadata": {},
   "outputs": [
    {
     "name": "stdout",
     "output_type": "stream",
     "text": [
      "Exporting image data/area_bokeh_0.png...\n",
      "Exporting image data/area_bokeh_1.png...\n",
      "Exporting image data/area_bokeh_2.png...\n",
      "Exporting image data/area_altair_3.png...\n",
      "Exporting image data/area_altair_4.png...\n"
     ]
    }
   ],
   "source": [
    "%matplotlib agg\n",
    "for (graph_type, graph_object) in generated_graphs.items():\n",
    "    for graph_content in graph_object['graphs']:\n",
    "        # retrieves the create_LIBRARY_graph function based on the graphs\n",
    "        # library and then appends the created graph to the same object\n",
    "        library = graph_content['library']\n",
    "        graph = create_graph(graph_type, library, graph_content)\n",
    "        \n",
    "        # export content to filepath\n",
    "        id = graph_content['id']\n",
    "        file_path = get_file_path(graph_type, library, id)\n",
    "        export_graph(graph, library, file_path)\n",
    "%matplotlib inline"
   ]
  },
  {
   "cell_type": "markdown",
   "metadata": {},
   "source": [
    "<hr/>\n",
    "\n",
    "## TODO: \n",
    "**Wednesday the 24th**\n",
    "- Add in graph creation code (area, bar, box, errorbar, etc.)\n",
    "- Add in theming code (selects random theme from directory, can be found in legacy codebase)\n",
    "\n",
    "**Friday the 26th**\n",
    "- Add in stylization code ()\n",
    "- Add README documentation\n",
    "\n",
    "## POSSIBLE TODOS:\n",
    "- Possibly batching (if not enough resources to run pipeline for large number of graphs)\n",
    "\n",
    "<br />\n",
    "<hr/>\n",
    "\n",
    "## Define Hyperparameters\n",
    "1. Define hyperparameters such as number of total graphs, what types of libraries and graphs to be used, etc.\n",
    "## Data Separation\n",
    "1. Split the dataset up by library / graph type\n",
    "1. Allow for distribution flags (so not entirely random)\n",
    "    - `library_distribution` and `graph_distribution` flags\n",
    "\n",
    "## Data Generation\n",
    "1. Generate the corresponding data (i.e. `generate_bar()`)\n",
    "1. Attach data to graph object (i.e. add `X` attribute to graph object)\n",
    "\n",
    "# Style Generation\n",
    "1. Chart Stylization (i.e. each library will be in charge of their own stylization)\n",
    "\n",
    "# Chart Generation\n",
    "1. Chart Generation"
   ]
  }
 ],
 "metadata": {
  "interpreter": {
   "hash": "d4ffe1cccd6b8935c088250f646007b8f4ca77d2f7799c1e6d17e1b6461115b4"
  },
  "kernelspec": {
   "display_name": "Random Graph Generator Kernel (Python 3.9.7)",
   "language": "python",
   "name": "python3"
  },
  "language_info": {
   "codemirror_mode": {
    "name": "ipython",
    "version": 3
   },
   "file_extension": ".py",
   "mimetype": "text/x-python",
   "name": "python",
   "nbconvert_exporter": "python",
   "pygments_lexer": "ipython3",
   "version": "3.9.1"
  },
  "orig_nbformat": 4
 },
 "nbformat": 4,
 "nbformat_minor": 2
}
