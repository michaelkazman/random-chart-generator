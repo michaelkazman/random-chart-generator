{
 "cells": [
  {
   "cell_type": "markdown",
   "metadata": {},
   "source": [
    "## Imports\n",
    "Contains import statements for all the required libraries and frameworks"
   ]
  },
  {
   "cell_type": "code",
   "execution_count": 268,
   "metadata": {},
   "outputs": [
    {
     "name": "stdout",
     "output_type": "stream",
     "text": [
      "The autoreload extension is already loaded. To reload it, use:\n",
      "  %reload_ext autoreload\n"
     ]
    }
   ],
   "source": [
    "%load_ext autoreload\n",
    "%autoreload 2\n",
    "\n",
    "import os\n",
    "import json\n",
    "import random\n",
    "import logging\n",
    "import numpy as np\n",
    "\n",
    "from copy import deepcopy\n",
    "from pprint import pprint\n",
    "from datetime import datetime\n",
    "\n",
    "from utils.utils import get_library_class\n",
    "from utils.generators import generate_data\n",
    "from utils.styles import generate_styles\n",
    "from utils.creators import create_graph\n",
    "from utils.exporters import (\n",
    "    export_graph_data,\n",
    "    export_graph_styles,\n",
    "    export_graph_image,\n",
    "    LOG_LEVEL\n",
    ")"
   ]
  },
  {
   "cell_type": "markdown",
   "metadata": {},
   "source": [
    "## Setup\n",
    "Set up and clean the pipeline environment\n",
    "\n",
    "Tasks such as cleaning the output folders and setting up a logger are done here"
   ]
  },
  {
   "cell_type": "code",
   "execution_count": 269,
   "metadata": {},
   "outputs": [],
   "source": [
    "# directories\n",
    "OUTPUT_DIR = 'output'\n",
    "INPUT_DIR = 'input'\n",
    "LOG_DIR = 'logs'\n",
    "\n",
    "# empty output folder\n",
    "for folder in ['data', 'styles', 'images']:\n",
    "    path = '{dir}/{folder}'.format(dir=OUTPUT_DIR, folder=folder)\n",
    "    for file in os.listdir(path):\n",
    "        if file != '__init__.py':\n",
    "            os.remove(os.path.join(path, file))\n",
    "\n",
    "# setup logger\n",
    "timestamp = datetime.now().strftime('%d_%m_%Y-%I_%M_%S')\n",
    "logging.basicConfig(\n",
    "    filename='{dir}/{timestamp}.log'.format(dir=LOG_DIR, timestamp=timestamp),\n",
    "    encoding='utf-8',\n",
    "    level=LOG_LEVEL,\n",
    "    format='%(asctime)s %(message)s',\n",
    "    datefmt='%m/%d/%Y %I:%M:%S',\n",
    "    force=True,\n",
    ")"
   ]
  },
  {
   "cell_type": "markdown",
   "metadata": {},
   "source": [
    "## Define Hyperparameters\n",
    "Specifies the maximum number of graphs to be generated\n",
    "\n",
    "Additionally, the types of libraries and plots can be specified as well"
   ]
  },
  {
   "cell_type": "code",
   "execution_count": 270,
   "metadata": {},
   "outputs": [
    {
     "name": "stdout",
     "output_type": "stream",
     "text": [
      "{'area': {}}\n"
     ]
    }
   ],
   "source": [
    "# number of graphs to be generated\n",
    "max_num_graphs = 14\n",
    "\n",
    "# list of all potential graph types\n",
    "graph_types = [\n",
    "    # 'scatter',\n",
    "    # 'bar',\n",
    "    # 'line',\n",
    "    # 'contour',\n",
    "    # 'kd',\n",
    "    # 'histogram',\n",
    "    # 'errorbar',\n",
    "    # 'bubble',\n",
    "    'area',\n",
    "    # 'box',\n",
    "    # 'violin',\n",
    "]\n",
    "\n",
    "# set of libraries generating graphs\n",
    "libraries = [\n",
    "    # 'bokeh',\n",
    "    # 'altair',\n",
    "    'plotnine',\n",
    "]\n",
    "# setup libraries (if needed)\n",
    "for library in libraries:\n",
    "    library_class = get_library_class(library)\n",
    "    library_class.setup_hook()\n",
    "\n",
    "# exclude certain graph-library combinations\n",
    "exclusions = [\n",
    "    # ('contour', 'altair'),\n",
    "]\n",
    "# \n",
    "# generate dict for each possible graph type\n",
    "# (e.g. { 'scatter': {}, 'bar': {}, ... })\n",
    "graphs = dict(\n",
    "    zip(graph_types, [{} for _ in range(len(graph_types))])\n",
    ")\n",
    "pprint(graphs)"
   ]
  },
  {
   "cell_type": "markdown",
   "metadata": {},
   "source": [
    "## Data Separation\n",
    "Generates a dict representing the number of graphs that need to be created for each library/graph pair\n",
    "\n",
    "The dictionary keys represent `(library, graph)` where the value represents the number of graphs to be generated"
   ]
  },
  {
   "cell_type": "code",
   "execution_count": 271,
   "metadata": {},
   "outputs": [
    {
     "name": "stdout",
     "output_type": "stream",
     "text": [
      "{('area', 'plotnine'): 14}\n"
     ]
    }
   ],
   "source": [
    "def generate_occurences_dict(\n",
    "    num_graphs,\n",
    "    graph_types,\n",
    "    libraries,\n",
    "    equal_library_distribution=True,\n",
    "    equal_graph_distribution=True,\n",
    "):\n",
    "    # dict for storing the number of graphs per library / graph to generate\n",
    "    # (e.g. occurences['bokeh', 'bar'] might return a value of 5)\n",
    "    occurences, library_occurences, graph_occurences = {}, [], [] \n",
    "    \n",
    "    # split graph occurences (1-d array)\n",
    "    split_graph_func =  split_number_evenly if equal_graph_distribution else split_number_randomly\n",
    "    graph_occurences = split_graph_func(num_graphs, len(graph_types))\n",
    "\n",
    "    # split library occurences (2-d array)\n",
    "    split_library_func = split_number_evenly if (equal_library_distribution) else split_number_randomly\n",
    "    for graph_index, num_graphs_per_type in enumerate(graph_occurences):\n",
    "        # only distribute graph occurences to available libraries (i.e. ones that aren't excluded)\n",
    "        graph_exclusions = list(filter(lambda x: x[0] == graph_types[graph_index], exclusions))\n",
    "        library_occurence = split_library_func(num_graphs_per_type, len(libraries) - len(graph_exclusions))\n",
    "        # splice an occurence of 0 at all the unavaiable library positions\n",
    "        library_indices = map(lambda x: libraries.index(x[1]), graph_exclusions)\n",
    "        _ = [library_occurence.insert(library_index, 0) for library_index in library_indices]\n",
    "        library_occurences.append(library_occurence)\n",
    "\n",
    "    # add values generated above to occurence dict\n",
    "    for i, num_graphs_per_type in enumerate(library_occurences):\n",
    "        for j, num_graphs_per_library in enumerate(num_graphs_per_type):\n",
    "            graph_type, library = graph_types[i], libraries[j]\n",
    "            occurences[graph_type, library] = num_graphs_per_library\n",
    "    return occurences\n",
    "\n",
    "def split_number_evenly(n, n_arrays):\n",
    "    values = np.linspace(n, 0, n_arrays+1).astype(int)\n",
    "    return [value - values[i+1] for i, value in enumerate(values[:-1])]\n",
    "\n",
    "def split_number_randomly(n, n_arrays):\n",
    "    number, numbers = n, []\n",
    "    while (number > 0):\n",
    "        random_number = round(random.random()*number)\n",
    "        numbers.append(random_number)\n",
    "        number -= random_number\n",
    "    numbers.extend([0] * (n_arrays - len(numbers)))\n",
    "    return random.sample(numbers, len(numbers))\n",
    "\n",
    "# generate graph occurence dictionary\n",
    "graph_types = list(graphs.keys())\n",
    "occurences = generate_occurences_dict(max_num_graphs, graph_types, libraries)\n",
    "pprint(occurences)"
   ]
  },
  {
   "cell_type": "markdown",
   "metadata": {},
   "source": [
    "## Data Generation\n",
    "Generates the corresponding data based on graph type (i.e. `generate_bar()`)\n",
    "\n",
    "Data is stored in a generated_graphs object (i.e. an `X` attribute in said graph object)"
   ]
  },
  {
   "cell_type": "code",
   "execution_count": 272,
   "metadata": {},
   "outputs": [],
   "source": [
    "# append objects in the format { id, library, data, etc. } to each corresponding graph type\n",
    "# e.g. graphs['bar']['graphs'] might equal [{ id: 1, library: 'bokeh', data: [[1, 2, 3]]}, ...]\n",
    "generated_graphs = deepcopy(graphs)\n",
    "graph_type_id, current_graph_type = 0, None\n",
    "for (graph_type, library), num_occurences in occurences.items():\n",
    "    # use a counter to track how many entries belong to the current graph type\n",
    "    if (current_graph_type != graph_type):\n",
    "        graph_type_id = 0\n",
    "        current_graph_type = graph_type\n",
    "\n",
    "    # generate a n-length set of data points,\n",
    "    # where n is something like occurences['bar', 'bokeh']\n",
    "    graphs_list = generated_graphs[graph_type].setdefault('graphs', [])\n",
    "    for _ in range(num_occurences):\n",
    "        data = generate_data(graph_type)\n",
    "        graphs_list.append({\n",
    "            'id': graph_type_id,\n",
    "            'library': library,\n",
    "            'data': data,\n",
    "        })\n",
    "        graph_type_id += 1"
   ]
  },
  {
   "cell_type": "markdown",
   "metadata": {},
   "source": [
    "## Data Stylization\n",
    "Generates styles for a given library-graph pair (e.g. `generate_style(library, graph)`)\n",
    "\n",
    "Calls the `generate_bokeh_styles`, `generate_altair_styles`, and `generate_plotnine_styles` functions for each style module dynamically\n",
    "\n",
    "The stylization code for each graph can be found in the `styles` dir respectively (i.e. `styles/bar.py`)"
   ]
  },
  {
   "cell_type": "code",
   "execution_count": 273,
   "metadata": {},
   "outputs": [
    {
     "name": "stdout",
     "output_type": "stream",
     "text": [
      "plotnine themes/plotnine ['classic.py', 'dark.py', 'fivethirtyeight.py', 'light.py', 'matplotlib.py', 'minimal.py']\n",
      "pls ['classic.py', 'dark.py', 'fivethirtyeight.py', 'light.py', 'matplotlib.py', 'minimal.py']\n",
      "classic.py\n",
      "plotnine themes/plotnine ['classic.py', 'dark.py', 'fivethirtyeight.py', 'light.py', 'matplotlib.py', 'minimal.py']\n",
      "pls ['classic.py', 'dark.py', 'fivethirtyeight.py', 'light.py', 'matplotlib.py', 'minimal.py']\n",
      "fivethirtyeight.py\n",
      "plotnine themes/plotnine ['classic.py', 'dark.py', 'fivethirtyeight.py', 'light.py', 'matplotlib.py', 'minimal.py']\n",
      "pls ['classic.py', 'dark.py', 'fivethirtyeight.py', 'light.py', 'matplotlib.py', 'minimal.py']\n",
      "light.py\n",
      "plotnine themes/plotnine ['classic.py', 'dark.py', 'fivethirtyeight.py', 'light.py', 'matplotlib.py', 'minimal.py']\n",
      "pls ['classic.py', 'dark.py', 'fivethirtyeight.py', 'light.py', 'matplotlib.py', 'minimal.py']\n",
      "matplotlib.py\n",
      "plotnine themes/plotnine ['classic.py', 'dark.py', 'fivethirtyeight.py', 'light.py', 'matplotlib.py', 'minimal.py']\n",
      "pls ['classic.py', 'dark.py', 'fivethirtyeight.py', 'light.py', 'matplotlib.py', 'minimal.py']\n",
      "light.py\n",
      "plotnine themes/plotnine ['classic.py', 'dark.py', 'fivethirtyeight.py', 'light.py', 'matplotlib.py', 'minimal.py']\n",
      "pls ['classic.py', 'dark.py', 'fivethirtyeight.py', 'light.py', 'matplotlib.py', 'minimal.py']\n",
      "matplotlib.py\n",
      "plotnine themes/plotnine ['classic.py', 'dark.py', 'fivethirtyeight.py', 'light.py', 'matplotlib.py', 'minimal.py']\n",
      "pls ['classic.py', 'dark.py', 'fivethirtyeight.py', 'light.py', 'matplotlib.py', 'minimal.py']\n",
      "classic.py\n",
      "plotnine themes/plotnine ['classic.py', 'dark.py', 'fivethirtyeight.py', 'light.py', 'matplotlib.py', 'minimal.py']\n",
      "pls ['classic.py', 'dark.py', 'fivethirtyeight.py', 'light.py', 'matplotlib.py', 'minimal.py']\n",
      "fivethirtyeight.py\n",
      "plotnine themes/plotnine ['classic.py', 'dark.py', 'fivethirtyeight.py', 'light.py', 'matplotlib.py', 'minimal.py']\n",
      "pls ['classic.py', 'dark.py', 'fivethirtyeight.py', 'light.py', 'matplotlib.py', 'minimal.py']\n",
      "classic.py\n",
      "plotnine themes/plotnine ['classic.py', 'dark.py', 'fivethirtyeight.py', 'light.py', 'matplotlib.py', 'minimal.py']\n",
      "pls ['classic.py', 'dark.py', 'fivethirtyeight.py', 'light.py', 'matplotlib.py', 'minimal.py']\n",
      "light.py\n",
      "plotnine themes/plotnine ['classic.py', 'dark.py', 'fivethirtyeight.py', 'light.py', 'matplotlib.py', 'minimal.py']\n",
      "pls ['classic.py', 'dark.py', 'fivethirtyeight.py', 'light.py', 'matplotlib.py', 'minimal.py']\n",
      "matplotlib.py\n",
      "plotnine themes/plotnine ['classic.py', 'dark.py', 'fivethirtyeight.py', 'light.py', 'matplotlib.py', 'minimal.py']\n",
      "pls ['classic.py', 'dark.py', 'fivethirtyeight.py', 'light.py', 'matplotlib.py', 'minimal.py']\n",
      "classic.py\n",
      "plotnine themes/plotnine ['classic.py', 'dark.py', 'fivethirtyeight.py', 'light.py', 'matplotlib.py', 'minimal.py']\n",
      "pls ['classic.py', 'dark.py', 'fivethirtyeight.py', 'light.py', 'matplotlib.py', 'minimal.py']\n",
      "classic.py\n",
      "plotnine themes/plotnine ['classic.py', 'dark.py', 'fivethirtyeight.py', 'light.py', 'matplotlib.py', 'minimal.py']\n",
      "pls ['classic.py', 'dark.py', 'fivethirtyeight.py', 'light.py', 'matplotlib.py', 'minimal.py']\n",
      "classic.py\n",
      "[[{'color': ['#536f3c'], 'height': 400, 'theme': 'classic.py', 'width': 400},\n",
      "  {'color': ['#be21a8'],\n",
      "   'height': 400,\n",
      "   'theme': 'fivethirtyeight.py',\n",
      "   'width': 400},\n",
      "  {'color': ['#9888ea'], 'height': 400, 'theme': 'light.py', 'width': 400},\n",
      "  {'color': ['#f0919d', '#affd97'],\n",
      "   'height': 400,\n",
      "   'theme': 'matplotlib.py',\n",
      "   'width': 400},\n",
      "  {'color': ['#12cf28'], 'height': 400, 'theme': 'light.py', 'width': 400},\n",
      "  {'color': ['#39101b'], 'height': 400, 'theme': 'matplotlib.py', 'width': 400},\n",
      "  {'color': ['#43482e', '#26301c', '#da1925'],\n",
      "   'height': 400,\n",
      "   'theme': 'classic.py',\n",
      "   'width': 400},\n",
      "  {'color': ['#62b335', '#326b99', '#044a02', '#6eb189'],\n",
      "   'height': 400,\n",
      "   'theme': 'fivethirtyeight.py',\n",
      "   'width': 400},\n",
      "  {'color': ['#68b65c', '#98599c', '#de1fc1', '#a066b8', '#ea52b3'],\n",
      "   'height': 400,\n",
      "   'theme': 'classic.py',\n",
      "   'width': 400},\n",
      "  {'color': ['#f1839d', '#42f235', '#a43992'],\n",
      "   'height': 400,\n",
      "   'theme': 'light.py',\n",
      "   'width': 400},\n",
      "  {'color': ['#35295a', '#1e51cd'],\n",
      "   'height': 400,\n",
      "   'theme': 'matplotlib.py',\n",
      "   'width': 400},\n",
      "  {'color': ['#ab5111', '#d04d83', '#d329dc', '#d6625b', '#7f84a0'],\n",
      "   'height': 400,\n",
      "   'theme': 'classic.py',\n",
      "   'width': 400},\n",
      "  {'color': ['#da2528', '#e3c4d4'],\n",
      "   'height': 400,\n",
      "   'theme': 'classic.py',\n",
      "   'width': 400},\n",
      "  {'color': ['#19b9b5', '#db4866', '#2ab27d', '#4bea91'],\n",
      "   'height': 400,\n",
      "   'theme': 'classic.py',\n",
      "   'width': 400}]]\n"
     ]
    }
   ],
   "source": [
    "# goes through each graph and generated corresponding style and theming objects\n",
    "for (graph_type, graph_object) in generated_graphs.items():\n",
    "    for graph_content in graph_object['graphs']:\n",
    "        library, num_repeats = graph_content['library'], graph_content['data'].get('num_repeats', 1)\n",
    "        graph_content['styles'] = generate_styles(graph_type, library, num_repeats)\n",
    "        graph_content['data'].pop('num_repeats', None)\n",
    "\n",
    "# displays generated styles objects\n",
    "pprint([[graph_content['styles'] for graph_content in graph_object['graphs']] for graph_object in generated_graphs.values()])"
   ]
  },
  {
   "cell_type": "markdown",
   "metadata": {},
   "source": [
    "## Graph Creation\n",
    "Uses the generated data points and styles to create the respective graphs\n",
    "\n",
    "Additional flags can be used to specify the output file path and file type"
   ]
  },
  {
   "cell_type": "code",
   "execution_count": 274,
   "metadata": {},
   "outputs": [
    {
     "name": "stdout",
     "output_type": "stream",
     "text": [
      "classic.py\n",
      "classic.py\n",
      "fivethirtyeight.py\n",
      "fivethirtyeight.py\n",
      "light.py\n",
      "light.py\n",
      "matplotlib.py\n",
      "matplotlib.py\n",
      "light.py\n",
      "light.py\n",
      "matplotlib.py\n",
      "matplotlib.py\n",
      "classic.py\n",
      "classic.py\n",
      "fivethirtyeight.py\n",
      "fivethirtyeight.py\n",
      "classic.py\n",
      "classic.py\n",
      "light.py\n",
      "light.py\n",
      "matplotlib.py\n",
      "matplotlib.py\n",
      "classic.py\n",
      "classic.py\n",
      "classic.py\n",
      "classic.py\n",
      "classic.py\n",
      "classic.py\n"
     ]
    }
   ],
   "source": [
    "# prevents inline chart display\n",
    "%matplotlib agg\n",
    "\n",
    "for (graph_type, graph_object) in generated_graphs.items():\n",
    "    for graph_content in graph_object['graphs']:\n",
    "        # retrieves the create_LIBRARY_graph function based on the graphs\n",
    "        # library and then appends the created graph to the same object\n",
    "        library = graph_content['library']\n",
    "        graph = create_graph(graph_type, library, graph_content)\n",
    "        \n",
    "        # export content to filepath\n",
    "        id = graph_content['id']\n",
    "        file_name = '{graph_type}_{library}_{id}'.format(graph_type=graph_type, library=library, id=id)\n",
    "\n",
    "        # save data, styles, and images to disk\n",
    "        export_graph_data(graph_content['data'], 'output/{path}/{file_name}.{file_type}'\n",
    "            .format(file_name=file_name, path='data', file_type='json'))\n",
    "        export_graph_styles(graph_content['styles'], 'output/{path}/{file_name}.{file_type}'\n",
    "            .format(file_name=file_name, path='styles', file_type='json'))\n",
    "        export_graph_image(graph, library, 'output/{path}/{file_name}.{file_type}'\n",
    "            .format(file_name=file_name, path='images', file_type='png'))\n",
    "\n",
    "# resets inline chart display back to original settings\n",
    "%matplotlib inline"
   ]
  },
  {
   "cell_type": "markdown",
   "metadata": {},
   "source": [
    "### Graph Regeneration\n",
    "The ability to regenerate graphs is critical, as the pipeline above will be involved in creating input data for a Generative Adversarial Network. It is neccessary to compare the images from both the original pipeline as well as the GAN in order to assess the network's accuracy\n",
    "\n",
    "By supplying input data to the `input/data` and `input/styles` folders, the following cell will read in the data, generate the corresponding charts, and export the data to the `input/images` folder\n",
    "\n",
    "The inputted data and styles files are required to be in `json` format"
   ]
  },
  {
   "cell_type": "code",
   "execution_count": 275,
   "metadata": {},
   "outputs": [
    {
     "ename": "TypeError",
     "evalue": "set.discard() takes exactly one argument (2 given)",
     "output_type": "error",
     "traceback": [
      "\u001b[1;31m---------------------------------------------------------------------------\u001b[0m",
      "\u001b[1;31mTypeError\u001b[0m                                 Traceback (most recent call last)",
      "\u001b[1;32m<ipython-input-275-bdab514e5d8d>\u001b[0m in \u001b[0;36m<module>\u001b[1;34m\u001b[0m\n\u001b[0;32m      6\u001b[0m \u001b[1;31m# only keep filenames of the graphs with all required files\u001b[0m\u001b[1;33m\u001b[0m\u001b[1;33m\u001b[0m\u001b[1;33m\u001b[0m\u001b[0m\n\u001b[0;32m      7\u001b[0m \u001b[0mvalid_input_graphs\u001b[0m \u001b[1;33m=\u001b[0m \u001b[0mset\u001b[0m\u001b[1;33m.\u001b[0m\u001b[0mintersection\u001b[0m\u001b[1;33m(\u001b[0m\u001b[1;33m*\u001b[0m\u001b[0minput_folder_contents\u001b[0m\u001b[1;33m)\u001b[0m\u001b[1;33m\u001b[0m\u001b[1;33m\u001b[0m\u001b[0m\n\u001b[1;32m----> 8\u001b[1;33m \u001b[0mvalid_input_graphs\u001b[0m\u001b[1;33m.\u001b[0m\u001b[0mdiscard\u001b[0m\u001b[1;33m(\u001b[0m\u001b[1;34m'__init__.py'\u001b[0m\u001b[1;33m,\u001b[0m \u001b[1;34m'__pycache__'\u001b[0m\u001b[1;33m)\u001b[0m\u001b[1;33m\u001b[0m\u001b[1;33m\u001b[0m\u001b[0m\n\u001b[0m\u001b[0;32m      9\u001b[0m \u001b[1;33m\u001b[0m\u001b[0m\n\u001b[0;32m     10\u001b[0m \u001b[1;31m# retrieve graph type and library based on filename\u001b[0m\u001b[1;33m\u001b[0m\u001b[1;33m\u001b[0m\u001b[1;33m\u001b[0m\u001b[0m\n",
      "\u001b[1;31mTypeError\u001b[0m: set.discard() takes exactly one argument (2 given)"
     ]
    }
   ],
   "source": [
    "# retrieve a list of contents from the specified input folders\n",
    "input_folders = ['data', 'styles']\n",
    "input_folder_paths = ['{dir}/{folder}'.format(dir=INPUT_DIR, folder=folder) for folder in input_folders]\n",
    "input_folder_contents = [set(os.listdir(path)) for path in input_folder_paths]\n",
    "\n",
    "# only keep filenames of the graphs with all required files\n",
    "valid_input_graphs = set.intersection(*input_folder_contents)\n",
    "valid_input_graphs.discard('__init__.py', '__pycache__')\n",
    "\n",
    "# retrieve graph type and library based on filename\n",
    "graphs = [graph.split('_', maxsplit=3) for graph in valid_input_graphs]\n",
    "for graph_filename in valid_input_graphs:\n",
    "  # extract graph data (from filename) and re-generate the expected data structure\n",
    "  # uses the given filename to retrieve the input files on disk\n",
    "  graph_type, library, id = graph_filename.split('_', maxsplit=3)\n",
    "  graph_content = {}\n",
    "  # note that the object property will be equal to the input folder name\n",
    "  # i.e. files in input/data will be stored as object['data']\n",
    "  for folder in input_folders:\n",
    "    with open('{dir}/{folder}/{file_name}'.format(dir=INPUT_DIR, folder=folder, file_name=graph_filename)) as f:\n",
    "      graph_content[folder] = json.load(f)\n",
    "  # create and export graph\n",
    "  graph = create_graph(graph_type, library, graph_content)\n",
    "  export_graph_image(graph, library, 'input/{path}/{file_name}.{file_type}'\n",
    "    .format(file_name=graph_filename, path='images', file_type='png'))\n",
    "\n",
    "logging.shutdown()"
   ]
  },
  {
   "cell_type": "code",
   "execution_count": null,
   "metadata": {},
   "outputs": [],
   "source": [
    "os.listdir('themes/')"
   ]
  }
 ],
 "metadata": {
  "interpreter": {
   "hash": "d4ffe1cccd6b8935c088250f646007b8f4ca77d2f7799c1e6d17e1b6461115b4"
  },
  "kernelspec": {
   "display_name": "Random Graph Generator Kernel (Python 3.9.7)",
   "language": "python",
   "name": "python3"
  },
  "language_info": {
   "codemirror_mode": {
    "name": "ipython",
    "version": 3
   },
   "file_extension": ".py",
   "mimetype": "text/x-python",
   "name": "python",
   "nbconvert_exporter": "python",
   "pygments_lexer": "ipython3",
   "version": "3.9.1"
  },
  "orig_nbformat": 4
 },
 "nbformat": 4,
 "nbformat_minor": 2
}
