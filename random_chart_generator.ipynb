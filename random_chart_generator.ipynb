{
 "cells": [
  {
   "cell_type": "markdown",
   "source": [
    "## Setup\n",
    "Runs a bash command (using iPython %bash magic) to install all required dependencies\n",
    "\n",
    "All packages (alongside their corresponding versions) can be found in the setup directory, specifically `requirements.txt`"
   ],
   "metadata": {}
  },
  {
   "cell_type": "code",
   "execution_count": 3,
   "source": [
    "%%bash\n",
    "yes | pip3 install --no-warn-script-location --progress-bar pretty --quiet -r ./setup/requirements.txt"
   ],
   "outputs": [
    {
     "output_type": "stream",
     "name": "stderr",
     "text": [
      "You are using pip version 18.1, however version 21.3.1 is available.\n",
      "You should consider upgrading via the 'pip install --upgrade pip' command.\n"
     ]
    }
   ],
   "metadata": {}
  },
  {
   "cell_type": "markdown",
   "source": [
    "## Imports\n",
    "Contains import statements for all the required libraries and frameworks"
   ],
   "metadata": {}
  },
  {
   "cell_type": "code",
   "execution_count": 4,
   "source": [
    "import bokeh\n",
    "import plotnine\n",
    "import altair\n",
    "import numpy as np\n",
    "from pprint import pprint"
   ],
   "outputs": [],
   "metadata": {}
  },
  {
   "cell_type": "markdown",
   "source": [
    "## Define Hyperparameters\n",
    "Specifies the maximum number of graphs to be generated.\n",
    "\n",
    "Additionally, the types of libraries and plots can be specified as well."
   ],
   "metadata": {}
  },
  {
   "cell_type": "code",
   "execution_count": 141,
   "source": [
    "# number of graphs to be generated\n",
    "max_num_graphs = 35\n",
    "\n",
    "# set of libraries generating graphs\n",
    "libraries = [\n",
    "    'bokeh',\n",
    "    'altair',\n",
    "    'plotnine',\n",
    "]\n",
    "\n",
    "# set of plots being generated\n",
    "graphs = [\n",
    "    'scatter', \n",
    "    'bar', \n",
    "    'line', \n",
    "    'contour', \n",
    "    'kd', \n",
    "    'histogram', \n",
    "    'errorbar', \n",
    "    'bubble', \n",
    "    'area', \n",
    "    'box'\n",
    "]"
   ],
   "outputs": [],
   "metadata": {}
  },
  {
   "cell_type": "markdown",
   "source": [
    "## Data Separation\n",
    "Generates a dict representing the number of graphs that need to be created for each library/graph pair\n",
    "\n",
    "The dictionary keys represent `(library, graph)` where the value represents the number of graphs to be generated"
   ],
   "metadata": {}
  },
  {
   "cell_type": "code",
   "execution_count": 153,
   "source": [
    "import random\n",
    "\n",
    "def split_number_evenly(n, n_arrays):\n",
    "    values = np.linspace(n, 0, n_arrays+1).astype(int)\n",
    "    return [value - values[i+1] for i, value in enumerate(values[:-1])]\n",
    "\n",
    "def split_number_randomly(n, n_arrays):\n",
    "    number, numbers = n, []\n",
    "    while (number > 0):\n",
    "        random_number = round(random.random()*number)\n",
    "        numbers.append(random_number)\n",
    "        number -= random_number\n",
    "    numbers.extend([0] * (n_arrays - len(numbers)))\n",
    "    return random.sample(numbers, len(numbers))\n",
    "\n",
    "def generate_occurences_dict(\n",
    "    num_graphs,\n",
    "    libraries,\n",
    "    graphs,\n",
    "    equal_library_distribution=True,\n",
    "    equal_graph_distribution=True,\n",
    "):\n",
    "    # dict for storing the number of graphs per library / graph to generate\n",
    "    # (e.g. occurences['bokeh', 'bar'] might return a value of 5)\n",
    "    occurences, library_occurences, graph_occurences = {}, [], []  \n",
    "    # split library occurences\n",
    "    split_library_func = split_number_evenly if (equal_library_distribution) else split_number_randomly\n",
    "    library_occurences = split_library_func(num_graphs, len(libraries))\n",
    "    # split graph occurences\n",
    "    split_graph_func =  split_number_evenly if equal_graph_distribution else split_number_randomly\n",
    "    graph_occurences = [split_graph_func(num_graphs_per_library, len(graphs)) for num_graphs_per_library in library_occurences]\n",
    "    # add values generated above to occurence dict\n",
    "    for i, num_graphs_per_library in enumerate(graph_occurences):\n",
    "        for j, num_graph_occurences in enumerate(num_graphs_per_library):\n",
    "            library, graph = libraries[i], graphs[j]\n",
    "            occurences[library, graph] = num_graph_occurences\n",
    "    return occurences\n",
    "\n",
    "occurences = generate_occurences_dict(100, libraries, graphs)\n"
   ],
   "outputs": [],
   "metadata": {}
  },
  {
   "cell_type": "markdown",
   "source": [
    "## Data Generation\n",
    "Generates the corresponding data based on graph type (i.e. `generate_bar()`)\n",
    "\n",
    "Data is stored in a generated_graphs object (i.e. an `X` attribute in said graph object)"
   ],
   "metadata": {}
  },
  {
   "cell_type": "code",
   "execution_count": null,
   "source": [
    "# TODO: make process for generating each type of graph\n",
    "# TODO: make generated_graphs dict and store data in X variable\n",
    "# e.g. dict[bokeh, bar] = [{}, {}, {}]"
   ],
   "outputs": [],
   "metadata": {}
  },
  {
   "cell_type": "markdown",
   "source": [
    "## Define Hyperparameters\n",
    "1. Define hyperparameters such as number of total graphs, what types of libraries and graphs to be used, etc.\n",
    "## Data Separation\n",
    "1. Split the dataset up by library / graph type\n",
    "1. Allow for distribution flags (so not entirely random)\n",
    "    - `library_distribution` and `graph_distribution` flags\n",
    "\n",
    "## Data Generation\n",
    "1. Generate the corresponding data (i.e. `generate_bar()`)\n",
    "1. Attach data to graph object (i.e. add `X` attribute to graph object)\n",
    "\n",
    "## Chart Generation\n",
    "1. Chart Stylization (i.e. each library will be in charge of their own stylization)\n",
    "1. Generate graph (i.e. generate graphs using `generate_graph(library, graph)`)"
   ],
   "metadata": {}
  }
 ],
 "metadata": {
  "orig_nbformat": 4,
  "language_info": {
   "name": "python",
   "version": "3.7.2",
   "mimetype": "text/x-python",
   "codemirror_mode": {
    "name": "ipython",
    "version": 3
   },
   "pygments_lexer": "ipython3",
   "nbconvert_exporter": "python",
   "file_extension": ".py"
  },
  "kernelspec": {
   "name": "python3",
   "display_name": "Python 3.7.2 64-bit"
  },
  "interpreter": {
   "hash": "aee8b7b246df8f9039afb4144a1f6fd8d2ca17a180786b69acc140d282b71a49"
  }
 },
 "nbformat": 4,
 "nbformat_minor": 2
}